{
  "nbformat": 4,
  "nbformat_minor": 0,
  "metadata": {
    "colab": {
      "provenance": []
    },
    "kernelspec": {
      "name": "python3",
      "display_name": "Python 3"
    },
    "language_info": {
      "name": "python"
    }
  },
  "cells": [
    {
      "cell_type": "code",
      "execution_count": null,
      "metadata": {
        "id": "Es-X_uTp7uF9"
      },
      "outputs": [],
      "source": [
        "import os\n",
        "import numpy as np\n",
        "from PIL import Image\n",
        "from sklearn.model_selection import train_test_split\n",
        "from sklearn.preprocessing import LabelEncoder\n",
        "from tensorflow.keras.models import Sequential\n",
        "from tensorflow.keras.layers import Dense, Flatten\n",
        "from tensorflow.keras.optimizers import Adam\n",
        "from tensorflow.keras.metrics import BinaryAccuracy\n",
        "from tensorflow.keras.regularizers import l2\n",
        "from tensorflow.keras.preprocessing.image import load_img, img_to_array"
      ]
    },
    {
      "cell_type": "code",
      "source": [
        "from google.colab import drive\n",
        "drive.mount('/content/drive')"
      ],
      "metadata": {
        "id": "jmBSNOMpdT4Q"
      },
      "execution_count": null,
      "outputs": []
    },
    {
      "cell_type": "code",
      "source": [
        "from google.colab import drive\n",
        "drive.mount('/content/drive')\n"
      ],
      "metadata": {
        "id": "eXPLE7Qf71c9"
      },
      "execution_count": null,
      "outputs": []
    },
    {
      "cell_type": "code",
      "source": [
        "bart_folder = 'https://drive.google.com/drive/folders/1RYfbBAUsYjURLcllELzYsdDkNa20xlKl?usp=share_link'  # Update this path\n",
        "homer_folder = 'https://drive.google.com/drive/folders/1hLseNU38Zmd0yBkBmCFX37hBXK0HvASi?usp=sharing'  # Update this path\n"
      ],
      "metadata": {
        "id": "ViRGGMQn7_6A"
      },
      "execution_count": null,
      "outputs": []
    },
    {
      "cell_type": "code",
      "source": [
        "images = []\n",
        "labels = []\n",
        "IMG_SIZE = 64"
      ],
      "metadata": {
        "id": "HMJe57VNb3YO"
      },
      "execution_count": null,
      "outputs": []
    },
    {
      "cell_type": "code",
      "source": [
        "# List the contents of your drive to see the root directories\n",
        "!ls /content/drive/MyDrive\n"
      ],
      "metadata": {
        "id": "KqiPCPx5b6lI"
      },
      "execution_count": null,
      "outputs": []
    },
    {
      "cell_type": "code",
      "source": [
        "# Navigate to a specific folder (if needed) and list its contents\n",
        "!ls /content/drive/MyDrive/Bart\n",
        "\n"
      ],
      "metadata": {
        "id": "-xlCTnmbcAot"
      },
      "execution_count": null,
      "outputs": []
    },
    {
      "cell_type": "code",
      "source": [
        "bart_folder = '/content/drive/MyDrive/Bart'  # Update this path\n",
        "homer_folder = '/content/drive/MyDrive/Homer'  # Update this path\n"
      ],
      "metadata": {
        "id": "oGzcpK5pcomO"
      },
      "execution_count": null,
      "outputs": []
    },
    {
      "cell_type": "code",
      "source": [
        "images = []\n",
        "labels = []\n",
        "IMG_SIZE = 64"
      ],
      "metadata": {
        "id": "JaYy67o6dj7q"
      },
      "execution_count": null,
      "outputs": []
    },
    {
      "cell_type": "code",
      "source": [],
      "metadata": {
        "id": "6khV1z-sd_pm"
      },
      "execution_count": null,
      "outputs": []
    },
    {
      "cell_type": "code",
      "source": [
        "for image_file in os.listdir(bart_folder):\n",
        "    image_path = os.path.join(bart_folder, image_file)\n",
        "    image = load_img(image_path, target_size=(IMG_SIZE, IMG_SIZE))  # Resize image\n",
        "    image = img_to_array(image) / 255.0  # Normalize pixel values\n",
        "    images.append(image)\n",
        "    labels.append('BART')"
      ],
      "metadata": {
        "id": "ol812vd0doY7"
      },
      "execution_count": null,
      "outputs": []
    },
    {
      "cell_type": "code",
      "source": [
        "for image_file in os.listdir(homer_folder):\n",
        "    image_path = os.path.join(homer_folder, image_file)\n",
        "    image = load_img(image_path, target_size=(IMG_SIZE, IMG_SIZE))  # Resize image\n",
        "    image = img_to_array(image) / 255.0  # Normalize pixel values\n",
        "    images.append(image)\n",
        "    labels.append('HOMER')"
      ],
      "metadata": {
        "id": "7JhO3AoqdrL1"
      },
      "execution_count": null,
      "outputs": []
    },
    {
      "cell_type": "code",
      "source": [
        "images = np.array(images)\n",
        "labels = np.array(labels)"
      ],
      "metadata": {
        "id": "VHfsejUOeIjX"
      },
      "execution_count": null,
      "outputs": []
    },
    {
      "cell_type": "code",
      "source": [
        "label_encoder = LabelEncoder()\n",
        "labels = label_encoder.fit_transform(labels)"
      ],
      "metadata": {
        "id": "31792mAbeV1k"
      },
      "execution_count": null,
      "outputs": []
    },
    {
      "cell_type": "code",
      "source": [
        "x_train, x_test, y_train, y_test = train_test_split(images, labels, test_size=0.1, random_state=42)"
      ],
      "metadata": {
        "id": "oIU7_b1seeOh"
      },
      "execution_count": null,
      "outputs": []
    },
    {
      "cell_type": "code",
      "source": [
        "model = Sequential([\n",
        "    Flatten(input_shape=(64, 64, 3)),\n",
        "    Dense(128, activation='relu', kernel_regularizer=l2(0.01)),\n",
        "    Dense(64, activation='relu', kernel_regularizer=l2(0.01)),\n",
        "    Dense(32, activation='relu', kernel_regularizer=l2(0.1)),\n",
        "    Dense(16, activation='relu', kernel_regularizer=l2(0.1)),\n",
        "    Dense(1, activation='sigmoid')\n",
        "])\n",
        "\n",
        "model.compile(optimizer=Adam(), loss='binary_crossentropy', metrics=[BinaryAccuracy()])"
      ],
      "metadata": {
        "id": "SK0iVRekepxY"
      },
      "execution_count": null,
      "outputs": []
    },
    {
      "cell_type": "code",
      "source": [
        "model.compile(optimizer=Adam(), loss='binary_crossentropy', metrics=[BinaryAccuracy()])"
      ],
      "metadata": {
        "id": "74tIKEqfetUj"
      },
      "execution_count": null,
      "outputs": []
    },
    {
      "cell_type": "code",
      "source": [
        "model.fit(x_train, y_train, epochs=70, batch_size= 32, verbose=1, validation_data=(x_test, y_test))"
      ],
      "metadata": {
        "id": "Ru7Mvqdeev8N"
      },
      "execution_count": null,
      "outputs": []
    },
    {
      "cell_type": "code",
      "source": [
        "test_loss, test_accuracy = model.evaluate(x_test, y_test)\n",
        "print(f'Test accuracy : {test_accuracy * 100:.4f}')"
      ],
      "metadata": {
        "id": "bppyOBF1ezEE"
      },
      "execution_count": null,
      "outputs": []
    },
    {
      "cell_type": "code",
      "source": [],
      "metadata": {
        "id": "j4yuDH1Ce4h8"
      },
      "execution_count": null,
      "outputs": []
    }
  ]
}