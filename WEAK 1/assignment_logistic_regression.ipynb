{
 "cells": [
  {
   "cell_type": "code",
   "execution_count": 1,
   "id": "641ce61f-418e-4b12-8c39-aeb1de6caf18",
   "metadata": {},
   "outputs": [],
   "source": [
    "import numpy as np\n",
    "import pandas as pd\n",
    "import matplotlib.pyplot as plt\n",
    "import math\n",
    "#write your code."
   ]
  },
  {
   "cell_type": "code",
   "execution_count": 2,
   "id": "6a862e14-f21f-481a-b151-2b4c77d330e1",
   "metadata": {},
   "outputs": [],
   "source": [
    "#load data\n",
    "data=np.loadtxt(\"data.txt\", delimiter=',')\n",
    "X=data[:,:2]\n",
    "y=data[:,2]\n",
    "X_train=X\n",
    "y_train=y"
   ]
  },
  {
   "cell_type": "code",
   "execution_count": 5,
   "id": "a8b47b3e-7f3a-4907-8500-c32e95472fb0",
   "metadata": {},
   "outputs": [],
   "source": [
    "#plot data to visualise\n",
    "def plot_data(X,y,positive_label=\"y=1\", negative_label=\"y=0\"):\n",
    "#positive_label and negative_label refers to classes of y as y can be 0 or 1\n",
    "    positive = y == 1\n",
    "    negative = y == 0\n",
    "    plt.plot(X[positive, 0], X[positive, 1], 'k+', label=positive_label)\n",
    "    plt.plot(X[negative, 0], X[negative, 1], 'yo', label=negative_label)\n",
    "#While plotting graph the label parameter will be either positive_label or negative_label so plot both the labels for"
   ]
  },
  {
   "cell_type": "code",
   "execution_count": 6,
   "id": "653e33e8-89ae-49a3-964b-9c0a50c4692c",
   "metadata": {},
   "outputs": [
    {
     "data": {
      "image/png": "[encoded data removed]",
      "text/plain": [
       "<Figure size 640x480 with 1 Axes>"
      ]
     },
     "metadata": {},
     "output_type": "display_data"
    }
   ],
   "source": [
    "#test\n",
    "plot_data(X_train, y_train[:], positive_label=\"Accepted\", negative_label=\"Rejected\")\n",
    "\n",
    "\n",
    "plt.xlabel('Test 2')\n",
    "plt.ylabel('Test 1')\n",
    "plt.legend(loc=\"upper right\")\n",
    "plt.show()"
   ]
  },
  {
   "cell_type": "code",
   "execution_count": 7,
   "id": "e4f4f9c7-40af-4e7f-ab27-8970e2f89f2f",
   "metadata": {},
   "outputs": [],
   "source": [
    "#feature mapping\n",
    "def map_feature(X1,X2):\n",
    "  X1=np.atleast_1d(X1)\n",
    "  X2=np.atleast_1d(X2)\n",
    "  degree=6\n",
    "  out=[]\n",
    "  for i in range(1,degree+1):\n",
    "    for j in range(i+1):\n",
    "      out.append((X1**(i-j) * (X2**j)))\n",
    "  return np.stack(out, axis=1)"
   ]
  },
  {
   "cell_type": "code",
   "execution_count": 8,
   "id": "05d1a02c-f945-4934-b175-bb175c579c8e",
   "metadata": {},
   "outputs": [
    {
     "name": "stdout",
     "output_type": "stream",
     "text": [
      "Original shape of data: (118, 2)\n",
      "Shape after feature mapping: (118, 27)\n"
     ]
    }
   ],
   "source": [
    "print(\"Original shape of data:\", X_train.shape)\n",
    "\n",
    "mapped_X =  map_feature(X_train[:, 0], X_train[:, 1])\n",
    "print(\"Shape after feature mapping:\", mapped_X.shape)"
   ]
  },
  {
   "cell_type": "code",
   "execution_count": 11,
   "id": "272faa37-dcc5-4f47-bff5-0d2edc11ddb7",
   "metadata": {},
   "outputs": [],
   "source": [
    "# @title DO NOT EDIT THIS CODE\n",
    "def sigmoid_test(target):\n",
    "    assert np.isclose(target(3.0), 0.9525741268224334), \"Failed for scalar input\"\n",
    "    assert np.allclose(target(np.array([2.5, 0])), [0.92414182, 0.5]), \"Failed for 1D array\"\n",
    "    assert np.allclose(target(np.array([[2.5, -2.5], [0, 1]])),\n",
    "                       [[0.92414182, 0.07585818], [0.5, 0.73105858]]), \"Failed for 2D array\"\n",
    "    print('\\033[92mTests passed!')"
   ]
  },
  {
   "cell_type": "code",
   "execution_count": 12,
   "id": "65f89415-ce52-4783-8413-dc8a53c05570",
   "metadata": {},
   "outputs": [],
   "source": [
    "#sigmoid function\n",
    "def sigmoid(z):\n",
    "     return 1 / (1 + np.exp(-z))\n",
    "#write your code"
   ]
  },
  {
   "cell_type": "code",
   "execution_count": 13,
   "id": "68de1d2f-d66d-46b8-8688-7e39f24cf6da",
   "metadata": {},
   "outputs": [
    {
     "name": "stdout",
     "output_type": "stream",
     "text": [
      "\u001b[92mTests passed!\n"
     ]
    }
   ],
   "source": [
    "sigmoid_test(sigmoid)"
   ]
  },
  {
   "cell_type": "code",
   "execution_count": 14,
   "id": "ef237426-7e99-4fd8-aa9f-06112d3ab2aa",
   "metadata": {},
   "outputs": [],
   "source": [
    "# @title DO NOT EDIT THIS CODE\n",
    "def compute_cost_test(target):\n",
    "    X = np.array([[0, 0, 0, 0]]).T\n",
    "    y = np.array([0, 0, 0, 0])\n",
    "    w = np.array([0])\n",
    "    b = 1\n",
    "    result = target(X, y, w, b)\n",
    "    if math.isinf(result):\n",
    "        raise ValueError(\"Did you get the sigmoid of z_wb?\")\n",
    "\n",
    "    np.random.seed(17)\n",
    "    X = np.random.randn(5, 2)\n",
    "    y = np.array([1, 0, 0, 1, 1])\n",
    "    w = np.random.randn(2)\n",
    "    b = 0\n",
    "    result = target(X, y, w, b)\n",
    "    assert np.isclose(result, 2.15510667), f\"Wrong output. Expected: {2.15510667} got: {result}\"\n",
    "\n",
    "    X = np.random.randn(4, 3)\n",
    "    y = np.array([1, 1, 0, 0])\n",
    "    w = np.random.randn(3)\n",
    "    b = 0\n",
    "\n",
    "    result = target(X, y, w, b)\n",
    "    assert np.isclose(result, 0.80709376), f\"Wrong output. Expected: {0.80709376} got: {result}\"\n",
    "\n",
    "    X = np.random.randn(4, 3)\n",
    "    y = np.array([1, 0,1, 0])\n",
    "    w = np.random.randn(3)\n",
    "    b = 3\n",
    "    result = target(X, y, w, b)\n",
    "    assert np.isclose(result, 0.4529660647), f\"Wrong output. Expected: {0.4529660647} got: {result}. Did you inizialized z_wb = b?\"\n",
    "\n",
    "    print('\\033[92mTests passed!')"
   ]
  },
  {
   "cell_type": "code",
   "execution_count": 16,
   "id": "e308293d-dbae-4190-a903-b987ac261596",
   "metadata": {},
   "outputs": [],
   "source": [
    "#computing cost\n",
    "def compute_cost(X,y,w,b,lambda_=1):\n",
    "#write your code\n",
    "  m = X.shape[0]\n",
    "  z = np.dot(X,w) + b\n",
    "  h = sigmoid(z)\n",
    "\n",
    "  total_cost = -(1/m) * (np.dot(y, np.log(h)) + np.dot((1 - y), np.log(1 - h)))\n",
    "\n",
    "\n",
    "\n",
    "  return total_cost"
   ]
  },
  {
   "cell_type": "code",
   "execution_count": 17,
   "id": "0615ef5c-5d45-4993-8507-eb02888ac1ed",
   "metadata": {},
   "outputs": [
    {
     "name": "stdout",
     "output_type": "stream",
     "text": [
      "Cost at test w,b: 11.777\n",
      "\u001b[92mTests passed!\n"
     ]
    }
   ],
   "source": [
    "test_w = np.array([0.2, 0.2])\n",
    "test_b = -24.\n",
    "cost = compute_cost(X_train, y_train, test_w, test_b)\n",
    "\n",
    "print('Cost at test w,b: {:.3f}'.format(cost))\n",
    "\n",
    "\n",
    "# test\n",
    "compute_cost_test(compute_cost)"
   ]
  },
  {
   "cell_type": "code",
   "execution_count": 19,
   "id": "10bded19-0aeb-49f9-892b-2f3dcc30fcfc",
   "metadata": {},
   "outputs": [],
   "source": [
    "#compute regularised cost\n",
    "def compute_cost_reg(X, y, w, b, lambda_ = 1):\n",
    "#write your code\n",
    "  m = X.shape[0]\n",
    "  z = np.dot(X,w) + b\n",
    "  h = sigmoid(z)\n",
    "  cost = -(1/m) * (np.dot(y, np.log(h)) + np.dot((1 - y), np.log(1 - h)))\n",
    "\n",
    "  regu_cost = (lambda_ / (2 * m)) * np.sum(np.square(w))\n",
    "\n",
    "  total_cost = cost + regu_cost\n",
    "\n",
    "\n",
    "\n",
    "  return total_cost"
   ]
  },
  {
   "cell_type": "code",
   "execution_count": 20,
   "id": "53054fe5-8b66-4178-8b9c-6331436a65e7",
   "metadata": {},
   "outputs": [],
   "source": [
    "# @title DO NOT EDIT THIS CODE\n",
    "def compute_cost_reg_test(target):\n",
    "    np.random.seed(1)\n",
    "    w = np.random.randn(3)\n",
    "    b = 0.4\n",
    "    X = np.random.randn(6, 3)\n",
    "    y = np.array([0, 1, 1, 0, 1, 1])\n",
    "    lambda_ = 0.1\n",
    "    expected_output = target(X, y, w, b, lambda_)\n",
    "\n",
    "    assert np.isclose(expected_output, 0.5469746792761936), f\"Wrong output. Expected: {0.5469746792761936} got:{expected_output}\"\n",
    "\n",
    "    w = np.random.randn(5)\n",
    "    b = -0.6\n",
    "    X = np.random.randn(8, 5)\n",
    "    y = np.array([1, 0, 1, 0, 0, 1, 0, 1])\n",
    "    lambda_ = 0.01\n",
    "    output = target(X, y, w, b, lambda_)\n",
    "    assert np.isclose(output, 1.2608591964119995), f\"Wrong output. Expected: {1.2608591964119995} got:{output}\"\n",
    "\n",
    "    w = np.array([2, 2, 2, 2, 2])\n",
    "    b = 0\n",
    "    X = np.zeros((8, 5))\n",
    "    y = np.array([0.5] * 8)\n",
    "    lambda_ = 3\n",
    "    output = target(X, y, w, b, lambda_)\n",
    "    expected = -np.log(0.5) + 3. / (2. * 8.) * 20.\n",
    "    assert np.isclose(output, expected), f\"Wrong output. Expected: {expected} got:{output}\"\n",
    "\n",
    "    print('\\033[92mAll tests passed!')"
   ]
  },
  {
   "cell_type": "code",
   "execution_count": 21,
   "id": "e5a9ec71-9d01-4a31-8260-d27456398d87",
   "metadata": {},
   "outputs": [
    {
     "name": "stdout",
     "output_type": "stream",
     "text": [
      "Regularised cost : 0.6618252552483951\n",
      "\u001b[92mAll tests passed!\n"
     ]
    }
   ],
   "source": [
    "X_mapped = map_feature(X_train[:, 0], X_train[:, 1])\n",
    "np.random.seed(1)\n",
    "initial_w = np.random.rand(X_mapped.shape[1]) - 0.5\n",
    "initial_b = 0.5\n",
    "lambda_ = 0.5\n",
    "cost = compute_cost_reg(X_mapped, y_train, initial_w, initial_b, lambda_)\n",
    "\n",
    "print(\"Regularised cost :\", cost)\n",
    "\n",
    "#test\n",
    "compute_cost_reg_test(compute_cost_reg)"
   ]
  },
  {
   "cell_type": "code",
   "execution_count": 22,
   "id": "8133babe-32fb-4f83-84a3-a9a56c0c77e7",
   "metadata": {},
   "outputs": [],
   "source": [
    "# @title DO NOT EDIT THIS CODE\n",
    "def compute_gradient_test(target):\n",
    "    np.random.seed(1)\n",
    "    X = np.random.randn(7, 3)\n",
    "    y = np.array([1, 0, 1, 0, 1, 1, 0])\n",
    "    test_w = np.array([1, 0.5, -0.35])\n",
    "    test_b = 1.7\n",
    "    dj_db, dj_dw  = target(X, y, test_w, test_b)\n",
    "\n",
    "    assert np.isclose(dj_db, 0.28936094), f\"Wrong value for dj_db. Expected: {0.28936094} got: {dj_db}\"\n",
    "    assert dj_dw.shape == test_w.shape, f\"Wrong shape for dj_dw. Expected: {test_w.shape} got: {dj_dw.shape}\"\n",
    "    assert np.allclose(dj_dw, [-0.11999166, 0.41498775, -0.71968405]), f\"Wrong values for dj_dw. Got: {dj_dw}\"\n",
    "\n",
    "    print('\\033[92mTests passed!')"
   ]
  },
  {
   "cell_type": "code",
   "execution_count": 25,
   "id": "26f9347b-51cf-48f4-a415-83200320de42",
   "metadata": {},
   "outputs": [],
   "source": [
    "#compute gradient\n",
    "def compute_gradient(X, y, w, b, lambda_=None):\n",
    "#write your code\n",
    "  m, n = X.shape\n",
    "  z = np.dot(X, w) + b\n",
    "  h = sigmoid(z)\n",
    "\n",
    "  dj_db = (1 / m) * np.sum(h - y)\n",
    "\n",
    "  dj_dw = (1 / m) * np.dot(X.T, (h - y))\n",
    "\n",
    "\n",
    "  return dj_db,dj_dw"
   ]
  },
  {
   "cell_type": "code",
   "execution_count": 26,
   "id": "e67e1a1c-a0d1-462c-9638-f895c45e04bb",
   "metadata": {},
   "outputs": [
    {
     "name": "stdout",
     "output_type": "stream",
     "text": [
      "dj_db at test_w: -0.4915254236924827\n",
      "dj_dw at test_w: [-0.00860136101246538, -0.09147300847306207]\n",
      "\u001b[92mTests passed!\n"
     ]
    }
   ],
   "source": [
    "test_w = np.array([ 0.2, -0.5])\n",
    "test_b = -24\n",
    "dj_db, dj_dw  = compute_gradient(X_train, y_train, test_w, test_b)\n",
    "\n",
    "print('dj_db at test_w:', dj_db)\n",
    "print('dj_dw at test_w:', dj_dw.tolist())\n",
    "\n",
    "# test\n",
    "compute_gradient_test(compute_gradient)"
   ]
  },
  {
   "cell_type": "code",
   "execution_count": 31,
   "id": "f328ce62-4cd3-4d3b-acbb-ed305d2a5e6a",
   "metadata": {},
   "outputs": [],
   "source": [
    "#compute regularised gradient\n",
    "def compute_gradient_reg(X, y, w, b, lambda_=1):\n",
    "#write your code\n",
    "\n",
    "  m, n = X.shape\n",
    "  z = np.dot(X, w) + b\n",
    "  h = sigmoid(z)\n",
    "\n",
    "  dj_db = (1 / m) * np.sum(h - y)\n",
    "\n",
    "  dj_dw = (1 / m) * np.dot(X.T, (h - y))\n",
    "\n",
    "  dj_dw += (lambda_ / m) * w\n",
    "\n",
    "  return dj_db,dj_dw"
   ]
  },
  {
   "cell_type": "code",
   "execution_count": 32,
   "id": "9d6e01d1-259c-4e67-a04a-9a596f137aea",
   "metadata": {},
   "outputs": [],
   "source": [
    "# @title DO NOT EDIT THIS CODE\n",
    "def compute_gradient_reg_test(target):\n",
    "    np.random.seed(1)\n",
    "    w = np.random.randn(5)\n",
    "    b = 0.2\n",
    "    X = np.random.randn(7, 5)\n",
    "    y = np.array([0, 1, 1, 0, 1, 1, 0])\n",
    "    lambda_ = 0.1\n",
    "    expected1 = (-0.1506447567869257, np.array([ 0.19530838, -0.00632206,  0.19687367,  0.15741161,  0.02791437]))\n",
    "    dj_db, dj_dw = target(X, y, w, b, lambda_)\n",
    "\n",
    "    assert np.isclose(dj_db, expected1[0]), f\"Wrong dj_db. Expected: {expected1[0]} got: {dj_db}\"\n",
    "    assert np.allclose(dj_dw, expected1[1]), f\"Wrong dj_dw. Expected: {expected1[1]} got: {dj_dw}\"\n",
    "\n",
    "\n",
    "    w = np.random.randn(7)\n",
    "    b = 0\n",
    "    X = np.random.randn(7, 7)\n",
    "    y = np.array([1, 0, 0, 0, 1, 1, 0])\n",
    "    lambda_ = 0\n",
    "    expected2 = (0.02660329857573818, np.array([ 0.23567643, -0.06921029, -0.19705212, -0.0002884 ,  0.06490588,\n",
    "        0.26948175,  0.10777992]))\n",
    "    dj_db, dj_dw = target(X, y, w, b, lambda_)\n",
    "    assert np.isclose(dj_db, expected2[0]), f\"Wrong dj_db. Expected: {expected2[0]} got: {dj_db}\"\n",
    "    assert np.allclose(dj_dw, expected2[1]), f\"Wrong dj_dw. Expected: {expected2[1]} got: {dj_dw}\"\n",
    "\n",
    "    print('\\033[92mTests passed!')"
   ]
  },
  {
   "cell_type": "code",
   "execution_count": 33,
   "id": "5e31b31d-5bf7-4b98-9ffc-bed71997f4e7",
   "metadata": {},
   "outputs": [
    {
     "name": "stdout",
     "output_type": "stream",
     "text": [
      "dj_db: 0.07138288792343654\n",
      "\u001b[92mTests passed!\n"
     ]
    }
   ],
   "source": [
    "X_mapped = map_feature(X_train[:, 0], X_train[:, 1])\n",
    "np.random.seed(1)\n",
    "initial_w  = np.random.rand(X_mapped.shape[1]) - 0.5\n",
    "initial_b = 0.5\n",
    "\n",
    "lambda_ = 0.5\n",
    "dj_db, dj_dw = compute_gradient_reg(X_mapped, y_train, initial_w, initial_b, lambda_)\n",
    "\n",
    "print(f\"dj_db: {dj_db}\" )\n",
    "#test\n",
    "compute_gradient_reg_test(compute_gradient_reg)"
   ]
  },
  {
   "cell_type": "code",
   "execution_count": 51,
   "id": "4655b811-0e99-4d68-89d8-f95c8dbb1789",
   "metadata": {},
   "outputs": [
    {
     "name": "stdout",
     "output_type": "stream",
     "text": [
      "Iteration 0: Cost 0.7151558394870592\n",
      "Iteration 1000: Cost 0.4452292455864791\n",
      "Iteration 2000: Cost 0.3996141088797826\n",
      "Iteration 3000: Cost 0.3794533944266395\n",
      "Iteration 4000: Cost 0.36845990697627445\n",
      "Iteration 5000: Cost 0.3616921897788152\n",
      "Iteration 6000: Cost 0.35716401067820774\n",
      "Iteration 7000: Cost 0.3539389476491007\n",
      "Iteration 8000: Cost 0.3515260665318656\n",
      "Iteration 9000: Cost 0.34964739749087914\n",
      "Iteration 10000: Cost 0.34813599301731735\n",
      "Iteration 11000: Cost 0.34688674834460453\n",
      "Iteration 12000: Cost 0.34583086345090497\n",
      "Iteration 13000: Cost 0.34492178204825685\n",
      "Iteration 14000: Cost 0.34412707129655423\n",
      "Iteration 15000: Cost 0.3434235425919089\n",
      "Iteration 16000: Cost 0.3427942199249916\n",
      "Iteration 17000: Cost 0.34222640132603244\n",
      "Iteration 18000: Cost 0.34171038794810216\n",
      "Iteration 19000: Cost 0.34123863233500223\n",
      "Iteration 20000: Cost 0.3408051563005551\n",
      "Iteration 21000: Cost 0.34040514594285426\n",
      "Iteration 22000: Cost 0.3400346652594074\n",
      "Iteration 23000: Cost 0.339690450533242\n",
      "Iteration 24000: Cost 0.33936976058202595\n",
      "Iteration 25000: Cost 0.3390702661942146\n",
      "Iteration 26000: Cost 0.33878996741783984\n",
      "Iteration 27000: Cost 0.33852713089159386\n",
      "Iteration 28000: Cost 0.3382802417679623\n",
      "Iteration 29000: Cost 0.3380479663804439\n",
      "Iteration 30000: Cost 0.33782912290833245\n",
      "Iteration 31000: Cost 0.33762265805839775\n",
      "Iteration 32000: Cost 0.337427628320988\n",
      "Iteration 33000: Cost 0.33724318474002246\n",
      "Iteration 34000: Cost 0.33706856040992933\n",
      "Iteration 35000: Cost 0.3369030601102827\n",
      "Iteration 36000: Cost 0.3367460516329608\n",
      "Iteration 37000: Cost 0.33659695846249715\n",
      "Iteration 38000: Cost 0.3364552535486762\n",
      "Iteration 39000: Cost 0.336320453968928\n",
      "Iteration 40000: Cost 0.3361921163220817\n",
      "Iteration 41000: Cost 0.33606983272838553\n",
      "Iteration 42000: Cost 0.33595322733618\n",
      "Iteration 43000: Cost 0.3358419532552237\n",
      "Iteration 44000: Cost 0.3357356898518783\n",
      "Iteration 45000: Cost 0.3356341403532606\n",
      "Iteration 46000: Cost 0.3355370297168368\n",
      "Iteration 47000: Cost 0.33544410272937486\n",
      "Iteration 48000: Cost 0.3353551223051279\n",
      "Iteration 49000: Cost 0.3352698679579176\n",
      "Iteration 50000: Cost 0.33518813442568773\n",
      "Iteration 51000: Cost 0.33510973042928527\n",
      "Iteration 52000: Cost 0.33503447754985316\n",
      "Iteration 53000: Cost 0.33496220921139896\n",
      "Iteration 54000: Cost 0.33489276975691973\n",
      "Iteration 55000: Cost 0.3348260136079901\n",
      "Iteration 56000: Cost 0.33476180449901155\n",
      "Iteration 57000: Cost 0.3347000147784147\n",
      "Iteration 58000: Cost 0.33464052477003825\n",
      "Iteration 59000: Cost 0.33458322218871595\n",
      "Iteration 60000: Cost 0.33452800160478485\n",
      "Iteration 61000: Cost 0.3344747639528324\n",
      "Iteration 62000: Cost 0.334423416080514\n",
      "Iteration 63000: Cost 0.33437387033372584\n",
      "Iteration 64000: Cost 0.3343260441748148\n",
      "Iteration 65000: Cost 0.3342798598308487\n",
      "Iteration 66000: Cost 0.3342352439692818\n",
      "Iteration 67000: Cost 0.3341921273986147\n",
      "Iteration 68000: Cost 0.3341504447918875\n",
      "Iteration 69000: Cost 0.33411013443105697\n",
      "Iteration 70000: Cost 0.33407113797049315\n",
      "Iteration 71000: Cost 0.3340334002180032\n",
      "Iteration 72000: Cost 0.3339968689319334\n",
      "Iteration 73000: Cost 0.3339614946330378\n",
      "Iteration 74000: Cost 0.3339272304299204\n",
      "Iteration 75000: Cost 0.333894031856965\n",
      "Iteration 76000: Cost 0.33386185672376223\n",
      "Iteration 77000: Cost 0.33383066497513214\n",
      "Iteration 78000: Cost 0.33380041856091885\n",
      "Iteration 79000: Cost 0.33377108131480066\n",
      "Iteration 80000: Cost 0.33374261884143114\n",
      "Iteration 81000: Cost 0.3337149984112743\n",
      "Iteration 82000: Cost 0.333688188862559\n",
      "Iteration 83000: Cost 0.3336621605098204\n",
      "Iteration 84000: Cost 0.3336368850585384\n",
      "Iteration 85000: Cost 0.33361233552542857\n",
      "Iteration 86000: Cost 0.3335884861639701\n",
      "Iteration 87000: Cost 0.33356531239479265\n",
      "Iteration 88000: Cost 0.3335427907405731\n",
      "Iteration 89000: Cost 0.3335208987651179\n",
      "Iteration 90000: Cost 0.33349961501633624\n",
      "Iteration 91000: Cost 0.3334789189728284\n",
      "Iteration 92000: Cost 0.33345879099383574\n",
      "Iteration 93000: Cost 0.3334392122723201\n",
      "Iteration 94000: Cost 0.3334201647909538\n",
      "Iteration 95000: Cost 0.3334016312808218\n",
      "Iteration 96000: Cost 0.3333835951826505\n",
      "Iteration 97000: Cost 0.33336604061039055\n",
      "Iteration 98000: Cost 0.3333489523169963\n",
      "Iteration 99000: Cost 0.3333323156622546\n",
      "Iteration 99999: Cost 0.33331613256757653\n"
     ]
    }
   ],
   "source": [
    "np.random.seed(1)\n",
    "initial_w = np.random.rand(X_mapped.shape[1])-0.5\n",
    "initial_b = 1.\n",
    "lambda_ = 0.01\n",
    "iterations = 100000\n",
    "alpha = 0.1\n",
    "def gradient_descent(X_mapped, y_train, initial_w, initial_b,\n",
    "                                    compute_cost_reg, compute_gradient_reg,\n",
    "                                    alpha, iterations, lambda_):\n",
    "\n",
    "#write your code\n",
    "  w = initial_w\n",
    "  b = initial_b\n",
    "  J_history = []\n",
    "\n",
    "  for i in range(iterations):\n",
    "    dj_db, dj_dw = compute_gradient_reg(X_mapped, y_train, w, b, lambda_)\n",
    "\n",
    "    w = w - alpha * dj_dw\n",
    "    b = b - alpha * dj_db\n",
    "\n",
    "    cost = compute_cost_reg(X_mapped, y_train, w, b, lambda_)\n",
    "    J_history.append(cost)\n",
    "\n",
    "    if i % 1000 == 0:\n",
    "        print(f\"Iteration {i}: Cost {cost}\")\n",
    "    if i == iterations-1:\n",
    "        print(f\"Iteration {i}: Cost {cost}\")\n",
    "\n",
    "\n",
    "\n",
    "\n",
    "\n",
    "  return w, b, J_history, _\n",
    "\n",
    "w,b, J_history,_ = gradient_descent(X_mapped, y_train, initial_w, initial_b,\n",
    "                                    compute_cost_reg, compute_gradient_reg,\n",
    "                                    alpha, iterations, lambda_)"
   ]
  },
  {
   "cell_type": "code",
   "execution_count": 52,
   "id": "69ac85d3-fdda-4d22-9cbc-20b38a63c8d5",
   "metadata": {},
   "outputs": [],
   "source": [
    "#plot decision boundary\n",
    "def plot_decision_boundary(w,b,X,y):\n",
    "\n",
    "    plot_data(X[:, 0:2], y)\n",
    "\n",
    "    if X.shape[1] <= 2:\n",
    "        plot_x = np.array([min(X[:, 0]), max(X[:, 0])])\n",
    "        plot_y = (-1. / w[1]) * (w[0] * plot_x + b)\n",
    "\n",
    "        plt.plot(plot_x, plot_y, c=\"b\")\n",
    "\n",
    "    else:\n",
    "        u = np.linspace(-1, 1.5, 50)\n",
    "        v = np.linspace(-1, 1.5, 50)\n",
    "\n",
    "        z = np.zeros((len(u), len(v)))\n",
    "\n",
    "\n",
    "        for i in range(len(u)):\n",
    "            for j in range(len(v)):\n",
    "                z[i,j] = sigmoid(np.dot(map_feature(u[i], v[j]), w) + b)\n",
    "\n",
    "\n",
    "        z = z.T\n",
    "\n",
    "\n",
    "        plt.contour(u,v,z, levels = [0.5], colors=\"g\")"
   ]
  },
  {
   "cell_type": "code",
   "execution_count": 53,
   "id": "a4b9d7f0-409d-451f-b372-b401defb2aa5",
   "metadata": {},
   "outputs": [
    {
     "name": "stderr",
     "output_type": "stream",
     "text": [
      "/var/folders/8d/8wk08jrn2hx1hzy0fgpbr0880000gn/T/ipykernel_38848/1319808980.py:21: DeprecationWarning: Conversion of an array with ndim > 0 to a scalar is deprecated, and will error in future. Ensure you extract a single element from your array before performing this operation. (Deprecated NumPy 1.25.)\n",
      "  z[i,j] = sigmoid(np.dot(map_feature(u[i], v[j]), w) + b)\n"
     ]
    },
    {
     "data": {
      "image/png": "[encoded data removed]",
      "text/plain": [
       "<Figure size 640x480 with 1 Axes>"
      ]
     },
     "metadata": {},
     "output_type": "display_data"
    }
   ],
   "source": [
    "plot_decision_boundary(w, b, X_mapped, y_train)"
   ]
  },
  {
   "cell_type": "code",
   "execution_count": 54,
   "id": "0c23e377-84d4-410d-8424-1a0db832a78b",
   "metadata": {},
   "outputs": [],
   "source": [
    "#predict your training model\n",
    "def predict(X, w, b):\n",
    "  m,n=X.shape\n",
    "  p=np.zeros(m)\n",
    "  #write your code\n",
    "  z = np.dot(X, w) + b\n",
    "  probabilities = sigmoid(z)\n",
    "\n",
    "  p = probabilities >= 0.5\n",
    "\n",
    "\n",
    "\n",
    "\n",
    "  return p"
   ]
  },
  {
   "cell_type": "code",
   "execution_count": 55,
   "id": "4c8af67f-f323-4747-be43-cd6124b39611",
   "metadata": {},
   "outputs": [
    {
     "name": "stdout",
     "output_type": "stream",
     "text": [
      "Accuracy of training model: 83.898305\n"
     ]
    }
   ],
   "source": [
    "p = predict(X_mapped, w, b)\n",
    "\n",
    "print('Accuracy of training model: %f'%(np.mean(p == y_train) * 100))"
   ]
  },
  {
   "cell_type": "code",
   "execution_count": null,
   "id": "6cce4533-90d9-4868-ab61-a226ec6b2f74",
   "metadata": {},
   "outputs": [],
   "source": []
  }
 ],
 "metadata": {
  "kernelspec": {
   "display_name": "Python 3 (ipykernel)",
   "language": "python",
   "name": "python3"
  },
  "language_info": {
   "codemirror_mode": {
    "name": "ipython",
    "version": 3
   },
   "file_extension": ".py",
   "mimetype": "text/x-python",
   "name": "python",
   "nbconvert_exporter": "python",
   "pygments_lexer": "ipython3",
   "version": "3.12.4"
  }
 },
 "nbformat": 4,
 "nbformat_minor": 5
}
