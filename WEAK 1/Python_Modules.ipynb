{
  "nbformat": 4,
  "nbformat_minor": 0,
  "metadata": {
    "colab": {
      "provenance": []
    },
    "kernelspec": {
      "name": "python3",
      "display_name": "Python 3"
    },
    "language_info": {
      "name": "python"
    }
  },
  "cells": [
    {
      "cell_type": "markdown",
      "source": [
        "# Numpy Implementation"
      ],
      "metadata": {
        "id": "nKMH5Y1T06vH"
      }
    },
    {
      "cell_type": "code",
      "execution_count": 3,
      "metadata": {
        "colab": {
          "base_uri": "https://localhost:8080/"
        },
        "id": "MM8X0T-p06HB",
        "outputId": "68e577ab-f150-4a61-f268-9ca5f66692ff"
      },
      "outputs": [
        {
          "output_type": "stream",
          "name": "stdout",
          "text": [
            "Passed\n"
          ]
        }
      ],
      "source": [
        "import numpy as np\n",
        "\n",
        "# Create a 2D Numpy array of size 1x3 with elements of your choice\n",
        "arr1 = np.array([[1, 2, 3]])\n",
        "\n",
        "# Create a Numpy array of length 50 with zeroes as its elements\n",
        "arr2 = np.zeros(50)\n",
        "\n",
        "# Create a Numpy array of size 3x2 with elements of your choice\n",
        "arr3 = np.array([[1, 2], [3, 4], [5, 6]])\n",
        "\n",
        "# Reshape arr1 to match arr3 for element-wise multiplication\n",
        "arr1_reshaped = arr1.reshape(3, 1)\n",
        "\n",
        "# Perform element-wise multiplication\n",
        "arr4 = np.multiply(arr1_reshaped, arr3)\n",
        "\n",
        "# Change 5th element of arr2 to a different number\n",
        "arr2[4] = 5\n",
        "\n",
        "# Check conditions\n",
        "if arr4.shape == (3, 2) and arr2[4] != 0:\n",
        "    print(\"Passed\")\n",
        "else:\n",
        "    print(\"Fail\")\n",
        "\n"
      ]
    },
    {
      "cell_type": "code",
      "source": [
        "import numpy as np\n",
        "\n",
        "#Task: Perform the dot product of I and 9I+1 using numpy, here I is referred to as an 3x3 Identity matrix.\n"
      ],
      "metadata": {
        "id": "KNTXZFd13rgE"
      },
      "execution_count": null,
      "outputs": []
    },
    {
      "cell_type": "code",
      "source": [
        "import numpy as np\n",
        "\n",
        "\n",
        "I = np.eye(3)\n",
        "\n",
        "\n",
        "A = 9 * I + 1\n",
        "\n",
        "\n",
        "result = np.dot(I, A)\n",
        "\n",
        "print(\"Dot product of I and 9I + 1:\")\n",
        "print(result)\n"
      ],
      "metadata": {
        "id": "9B3Hnvtq7Xyz",
        "outputId": "65798993-ed04-4c17-b214-afc805834a72",
        "colab": {
          "base_uri": "https://localhost:8080/"
        }
      },
      "execution_count": 5,
      "outputs": [
        {
          "output_type": "stream",
          "name": "stdout",
          "text": [
            "Dot product of I and 9I + 1:\n",
            "[[10.  1.  1.]\n",
            " [ 1. 10.  1.]\n",
            " [ 1.  1. 10.]]\n"
          ]
        }
      ]
    },
    {
      "cell_type": "markdown",
      "source": [
        "# Pandas Implementation"
      ],
      "metadata": {
        "id": "rRrOxN-6FXAb"
      }
    },
    {
      "cell_type": "code",
      "source": [
        "import pandas as pd\n",
        "\n",
        "## Create a DataFrame from a dictionary\n",
        "data = {\n",
        "    'Name': ['Ramesh', 'Mahesh', 'Suresh'],\n",
        "    'Age': [25, 30, 35],\n",
        "    'City': ['Bangalore', 'Mumbai', 'Delhi']\n",
        "}\n",
        "#Your code here\n",
        "df = pd.DataFrame(data)\n",
        "#Display the first 2 rows of the data frame\n",
        "#Your code here\n",
        "print(df.head(2))\n",
        "#Print the age column\n",
        "#Your code here\n",
        "print(df['Age'])\n",
        "#Filter rows where age is greater than 26\n",
        "#Your code here\n",
        "filtered_df = df[df['Age'] > 26]\n",
        "#Add a new column 'Country' with the value 'India' for all rows\n",
        "#Your code here\n",
        "df['Country'] = 'India'\n",
        "data1 = {\n",
        "    'Name': ['Ramesh', 'Mahesh', 'Suresh'],\n",
        "    'Age': [25, None, 35],\n",
        "    'City': ['Bangalore', 'Mumbai', 'Delhi']\n",
        "}\n",
        "\n",
        "df1= pd.DataFrame(data1)\n",
        "\n",
        "# Fill missing values in the 'Age' column with the mean age\n",
        "#Your code here\n",
        "mean_age = df['Age'].mean()\n",
        "df['Age'].fillna(mean_age, inplace=True)\n",
        "print(\"DataFrame after filling missing values in 'Age' column:\")\n",
        "print(df)"
      ],
      "metadata": {
        "id": "EaoIVtKIFenB",
        "outputId": "8ba444de-0fb3-4e09-cb4c-77fdbb9f5ce1",
        "colab": {
          "base_uri": "https://localhost:8080/"
        }
      },
      "execution_count": 9,
      "outputs": [
        {
          "output_type": "stream",
          "name": "stdout",
          "text": [
            "     Name  Age       City\n",
            "0  Ramesh   25  Bangalore\n",
            "1  Mahesh   30     Mumbai\n",
            "0    25\n",
            "1    30\n",
            "2    35\n",
            "Name: Age, dtype: int64\n",
            "DataFrame after filling missing values in 'Age' column:\n",
            "     Name  Age       City Country\n",
            "0  Ramesh   25  Bangalore   India\n",
            "1  Mahesh   30     Mumbai   India\n",
            "2  Suresh   35      Delhi   India\n"
          ]
        }
      ]
    },
    {
      "cell_type": "markdown",
      "source": [
        "# Matplotlib Implementation"
      ],
      "metadata": {
        "id": "uay3H4C8cboE"
      }
    },
    {
      "cell_type": "code",
      "source": [
        "import matplotlib.pyplot as plt\n",
        "import numpy as np\n",
        "\n",
        "xpoints = np.array([1, 2, 3, 4])\n",
        "ypoints = np.array([2, 4, 6, 8])\n",
        "\n",
        "# Plot these points without drawing a line\n",
        "plt.figure(figsize=(8, 6))  # Optional: Adjust figure size\n",
        "plt.plot(xpoints, ypoints, marker='o', linestyle='None')  # Plot points without connecting lines\n",
        "\n",
        "# Plotting with star marker\n",
        "plt.plot(xpoints, ypoints, marker='*', linestyle='None')\n",
        "\n",
        "# Using fmt format: circular marker, red color, dashed line\n",
        "plt.plot(xpoints, ypoints, 'ro--')\n",
        "\n",
        "# Add labels and title\n",
        "plt.xlabel('X-axis')\n",
        "plt.ylabel('Y-axis')\n",
        "plt.title('Plotting Points')\n",
        "\n",
        "# Create a scatter plot for xpoints and ypoints\n",
        "plt.scatter(xpoints, ypoints)\n",
        "\n",
        "# Set color to the scatter plot: Blue, Green, Red, and Yellow for each point respectively\n",
        "colors = ['blue', 'green', 'red', 'yellow']\n",
        "for i in range(len(xpoints)):\n",
        "    plt.scatter(xpoints[i], ypoints[i], color=colors[i], label=f'Point {i+1}')\n",
        "\n",
        "plt.legend()  # Optional: Add legend\n",
        "\n",
        "plt.show()\n",
        "\n"
      ],
      "metadata": {
        "colab": {
          "base_uri": "https://localhost:8080/",
          "height": 564
        },
        "id": "i4lccqVxcgE_",
        "outputId": "8c32cbd8-59b1-4f8a-aed0-12a80eea3e7d"
      },
      "execution_count": 15,
      "outputs": [
        {
          "output_type": "display_data",
          "data": {
            "text/plain": [
              "<Figure size 800x600 with 1 Axes>"
            ],
            "image/png": "[encoded data removed]"
          },
          "metadata": {}
        }
      ]
    },
    {
      "cell_type": "markdown",
      "source": [
        "# Miscellaneous Modules Implementation"
      ],
      "metadata": {
        "id": "pfe2Fv2tgKq5"
      }
    },
    {
      "cell_type": "code",
      "source": [],
      "metadata": {
        "id": "uwET4NZGSCru"
      },
      "execution_count": null,
      "outputs": []
    },
    {
      "cell_type": "code",
      "source": [
        "import random\n",
        "import numpy as np\n",
        "\n",
        "# Set the seed of random to 20\n",
        "random.seed(20)\n",
        "\n",
        "arr1 = np.array([1, 24, 31, 45, 73, 81, 94, 25])\n",
        "\n",
        "# Using the random module, pick 4 different random numbers from arr1 and return their sum\n",
        "random_numbers = random.sample(list(arr1), 4)\n",
        "sum_of_random_numbers = sum(random_numbers)\n",
        "\n",
        "print(\"Randomly picked numbers:\", random_numbers)\n",
        "print(\"Sum of randomly picked numbers:\", sum_of_random_numbers)\n"
      ],
      "metadata": {
        "id": "a_bTz2PlgRah",
        "outputId": "d980c4d3-8902-4e19-a0d2-8e29d392498f",
        "colab": {
          "base_uri": "https://localhost:8080/"
        }
      },
      "execution_count": 16,
      "outputs": [
        {
          "output_type": "stream",
          "name": "stdout",
          "text": [
            "Randomly picked numbers: [31, 25, 81, 1]\n",
            "Sum of randomly picked numbers: 138\n"
          ]
        }
      ]
    }
  ]
}